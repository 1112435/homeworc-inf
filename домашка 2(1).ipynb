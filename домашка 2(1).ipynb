{
 "cells": [
  {
   "cell_type": "code",
   "execution_count": null,
   "id": "6ecd86cb",
   "metadata": {},
   "outputs": [],
   "source": [
    "#1"
   ]
  },
  {
   "cell_type": "code",
   "execution_count": null,
   "id": "871f694a",
   "metadata": {},
   "outputs": [],
   "source": [
    "a=int(input())\n",
    "s=1\n",
    "while s**2<=a:\n",
    "    print(s**2)\n",
    "    s+=1"
   ]
  },
  {
   "cell_type": "code",
   "execution_count": null,
   "id": "b618abaf",
   "metadata": {},
   "outputs": [],
   "source": [
    "#2"
   ]
  },
  {
   "cell_type": "code",
   "execution_count": null,
   "id": "2c6370b1",
   "metadata": {},
   "outputs": [],
   "source": [
    "a=int(input())\n",
    "s=1\n",
    "while s**2<=a:\n",
    "    print(s**2)\n",
    "    s+=1"
   ]
  },
  {
   "cell_type": "code",
   "execution_count": null,
   "id": "473ac1c4",
   "metadata": {},
   "outputs": [],
   "source": [
    "#3"
   ]
  },
  {
   "cell_type": "code",
   "execution_count": null,
   "id": "0014a680",
   "metadata": {},
   "outputs": [],
   "source": [
    "number = int(input())\n",
    "i = 1\n",
    "while 2**i <= number:\n",
    "    i += 1\n",
    "print(i-1, 2**(i-1))"
   ]
  },
  {
   "cell_type": "code",
   "execution_count": null,
   "id": "87ecb37d",
   "metadata": {},
   "outputs": [],
   "source": [
    "#4"
   ]
  },
  {
   "cell_type": "code",
   "execution_count": null,
   "id": "27cb119f",
   "metadata": {},
   "outputs": [],
   "source": [
    "a=int(input())\n",
    "b=int(input())\n",
    "i=1\n",
    "while a<=b:\n",
    "    if a==b:\n",
    "        break\n",
    "    a+=a/10\n",
    "    i+=1\n",
    "print(i)"
   ]
  },
  {
   "cell_type": "code",
   "execution_count": null,
   "id": "7c2ea2e8",
   "metadata": {},
   "outputs": [],
   "source": [
    "#5"
   ]
  },
  {
   "cell_type": "code",
   "execution_count": null,
   "id": "0565d3f0",
   "metadata": {},
   "outputs": [],
   "source": [
    "i = 0\n",
    "while True:\n",
    "    x = int(input())\n",
    "    if x == 0:\n",
    "        break\n",
    "    i += 1\n",
    "print(i)"
   ]
  },
  {
   "cell_type": "code",
   "execution_count": null,
   "id": "1ed88b4c",
   "metadata": {},
   "outputs": [],
   "source": [
    "#6"
   ]
  },
  {
   "cell_type": "code",
   "execution_count": null,
   "id": "c93fc074",
   "metadata": {},
   "outputs": [],
   "source": [
    "a = int(input())\n",
    "c=a\n",
    "\n",
    "while a!=0:\n",
    "    a = int(input())\n",
    "    c=c+a\n",
    "print(c)"
   ]
  },
  {
   "cell_type": "code",
   "execution_count": null,
   "id": "35e05b5f",
   "metadata": {},
   "outputs": [],
   "source": [
    "#7"
   ]
  },
  {
   "cell_type": "code",
   "execution_count": null,
   "id": "e9f6ec38",
   "metadata": {},
   "outputs": [],
   "source": [
    "a = 0\n",
    "b = -1\n",
    "n = 1\n",
    "while n:\n",
    "    n = int(input())\n",
    "    a = a + n\n",
    "    b = b + 1\n",
    "print(a/b)"
   ]
  },
  {
   "cell_type": "code",
   "execution_count": null,
   "id": "cda67600",
   "metadata": {},
   "outputs": [],
   "source": [
    "#8"
   ]
  },
  {
   "cell_type": "code",
   "execution_count": null,
   "id": "e4da4de3",
   "metadata": {},
   "outputs": [],
   "source": [
    "n = int(input())\n",
    "max = n\n",
    "while n != 0:\n",
    "    if n > max:\n",
    "        max = n\n",
    "    n = int(input())\n",
    "print(max)"
   ]
  },
  {
   "cell_type": "code",
   "execution_count": null,
   "id": "edcb1df4",
   "metadata": {},
   "outputs": [],
   "source": [
    "#9"
   ]
  },
  {
   "cell_type": "code",
   "execution_count": null,
   "id": "24b8355f",
   "metadata": {},
   "outputs": [],
   "source": [
    "s = 0\n",
    "j = -1\n",
    "k = int(input())\n",
    "while k != 0:\n",
    "    if k > s:\n",
    "        s = k\n",
    "        j += 1\n",
    "    k = int(input())\n",
    "print(j)"
   ]
  },
  {
   "cell_type": "code",
   "execution_count": null,
   "id": "5273ff1a",
   "metadata": {},
   "outputs": [],
   "source": [
    "#15"
   ]
  },
  {
   "cell_type": "code",
   "execution_count": null,
   "id": "40cb24da",
   "metadata": {},
   "outputs": [],
   "source": [
    "x=0\n",
    "x1=1\n",
    "x2=0\n",
    "i=0\n",
    "n=int(input())\n",
    "while x<=n:\n",
    "    x=x1+x2\n",
    "    x1,x2=x,x1\n",
    "    i+=1\n",
    "if (n==x2):\n",
    "    print(i)\n",
    "else:\n",
    "    print(-1)"
   ]
  },
  {
   "cell_type": "code",
   "execution_count": null,
   "id": "d8bdccde",
   "metadata": {},
   "outputs": [],
   "source": [
    "#14"
   ]
  },
  {
   "cell_type": "code",
   "execution_count": null,
   "id": "dd9094de",
   "metadata": {},
   "outputs": [],
   "source": [
    "n = int(input())\n",
    "if n == 0:\n",
    "    print(0)\n",
    "else:\n",
    "    a, b = 0, 1\n",
    "    for i in range(2, n + 1):\n",
    "        a, b = b, a + b\n",
    "    print(b)"
   ]
  },
  {
   "cell_type": "code",
   "execution_count": null,
   "id": "a26cf5d6",
   "metadata": {},
   "outputs": [],
   "source": [
    "#12"
   ]
  },
  {
   "cell_type": "code",
   "execution_count": null,
   "id": "e2ecd8c9",
   "metadata": {},
   "outputs": [],
   "source": [
    "max1=0\n",
    "max2=0\n",
    "a=int(input())\n",
    "while a != 0:\n",
    "    if a>max1:\n",
    "        max2=max1\n",
    "        max1=a\n",
    "    elif a>max2 :\n",
    "        max2=a\n",
    "    a=int(input())\n",
    "print(max2)"
   ]
  },
  {
   "cell_type": "code",
   "execution_count": null,
   "id": "2cc0101c",
   "metadata": {},
   "outputs": [],
   "source": [
    "#11"
   ]
  },
  {
   "cell_type": "code",
   "execution_count": null,
   "id": "35086149",
   "metadata": {},
   "outputs": [],
   "source": [
    "a1 = int(input())\n",
    "a = int(input())\n",
    "s =0\n",
    "while a! =0:\n",
    "    if a>a1:\n",
    "        s+=1\n",
    "    a1=a\n",
    "    a=int(input())\n",
    "print(s)"
   ]
  }
 ],
 "metadata": {
  "kernelspec": {
   "display_name": "Python 3 (ipykernel)",
   "language": "python",
   "name": "python3"
  },
  "language_info": {
   "codemirror_mode": {
    "name": "ipython",
    "version": 3
   },
   "file_extension": ".py",
   "mimetype": "text/x-python",
   "name": "python",
   "nbconvert_exporter": "python",
   "pygments_lexer": "ipython3",
   "version": "3.9.12"
  }
 },
 "nbformat": 4,
 "nbformat_minor": 5
}
