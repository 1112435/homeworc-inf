{
 "cells": [
  {
   "cell_type": "code",
   "execution_count": 10,
   "id": "8170a43c",
   "metadata": {},
   "outputs": [],
   "source": [
    "#Первая задача"
   ]
  },
  {
   "cell_type": "code",
   "execution_count": 11,
   "id": "4c7e6ede",
   "metadata": {},
   "outputs": [
    {
     "name": "stdout",
     "output_type": "stream",
     "text": [
      "2\n",
      "3\n",
      "6\n",
      "11\n"
     ]
    }
   ],
   "source": [
    "a = int(input())\n",
    "b = int(input())\n",
    "c = int(input())\n",
    "s = a + b + c\n",
    "print(s)"
   ]
  },
  {
   "cell_type": "code",
   "execution_count": 1,
   "id": "827a2491",
   "metadata": {},
   "outputs": [],
   "source": [
    "#Вторая задача"
   ]
  },
  {
   "cell_type": "code",
   "execution_count": 13,
   "id": "5318dd63",
   "metadata": {},
   "outputs": [
    {
     "name": "stdout",
     "output_type": "stream",
     "text": [
      "3\n",
      "5\n",
      "7.5\n"
     ]
    }
   ],
   "source": [
    "a = int(input())\n",
    "b = int(input())\n",
    "print(a * b /2)"
   ]
  },
  {
   "cell_type": "code",
   "execution_count": 3,
   "id": "fb785346",
   "metadata": {},
   "outputs": [],
   "source": [
    "#Третья задача"
   ]
  },
  {
   "cell_type": "code",
   "execution_count": 14,
   "id": "6832ae9b",
   "metadata": {},
   "outputs": [
    {
     "name": "stdout",
     "output_type": "stream",
     "text": [
      "6\n",
      "50\n",
      "8\n",
      "2\n"
     ]
    }
   ],
   "source": [
    "n = int(input())\n",
    "k = int(input())\n",
    "print(k //n)\n",
    "print(k %n)"
   ]
  },
  {
   "cell_type": "code",
   "execution_count": 5,
   "id": "7074ac34",
   "metadata": {},
   "outputs": [],
   "source": [
    "#Пятая задача"
   ]
  },
  {
   "cell_type": "code",
   "execution_count": 9,
   "id": "151cf963",
   "metadata": {},
   "outputs": [
    {
     "name": "stdout",
     "output_type": "stream",
     "text": [
      "беб\n",
      "Hello, беб!\n"
     ]
    }
   ],
   "source": [
    "print('Hello, ' + input() + '!')"
   ]
  },
  {
   "cell_type": "code",
   "execution_count": 7,
   "id": "e426eb37",
   "metadata": {},
   "outputs": [],
   "source": [
    "#Седьмая задача"
   ]
  },
  {
   "cell_type": "code",
   "execution_count": 15,
   "id": "b8b349aa",
   "metadata": {},
   "outputs": [
    {
     "name": "stdout",
     "output_type": "stream",
     "text": [
      "20\n",
      "21\n",
      "22\n",
      "32\n"
     ]
    }
   ],
   "source": [
    "a = int(input())\n",
    "b = int(input())\n",
    "c = int(input())\n",
    "print(a //2 + b //2 + c //2 + a %2 + b %2 + c %2)"
   ]
  }
 ],
 "metadata": {
  "kernelspec": {
   "display_name": "Python 3 (ipykernel)",
   "language": "python",
   "name": "python3"
  },
  "language_info": {
   "codemirror_mode": {
    "name": "ipython",
    "version": 3
   },
   "file_extension": ".py",
   "mimetype": "text/x-python",
   "name": "python",
   "nbconvert_exporter": "python",
   "pygments_lexer": "ipython3",
   "version": "3.9.12"
  }
 },
 "nbformat": 4,
 "nbformat_minor": 5
}
